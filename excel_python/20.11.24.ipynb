{
 "cells": [
  {
   "cell_type": "code",
   "execution_count": 10,
   "metadata": {},
   "outputs": [
    {
     "data": {
      "text/plain": [
       "'The final grade  is: 5.8'"
      ]
     },
     "execution_count": 10,
     "metadata": {},
     "output_type": "execute_result"
    }
   ],
   "source": [
    "\n",
    "# Exercise 1\n",
    "\n",
    "\n",
    "def calculate_final_grade():\n",
    "    grade1 = float(input('give a grade for test 1:',))\n",
    "    grade2 = float(input('give a grade for test 2:',))\n",
    "    grade3 = float(input('give a grade for lab 1:',))\n",
    "    grade4 = float(input('give a grade for lab 2:',))\n",
    "    grade5 = float(input('give a grade5 for lab 3:',))\n",
    "\n",
    "    return 'The final grade  is:' + ' ' + str((grade1 + grade2 + grade3 + grade4 + grade5)/5)\n",
    "\n",
    "calculate_final_grade()\n"
   ]
  },
  {
   "cell_type": "code",
   "execution_count": null,
   "metadata": {},
   "outputs": [
    {
     "name": "stdout",
     "output_type": "stream",
     "text": [
      "The final grade is 4.60\n"
     ]
    }
   ],
   "source": [
    "# the other version on board:\n",
    "\n",
    "\n",
    "def calculate_final_grade():\n",
    "    grade1 = float(input('give a grade for test 1:',))\n",
    "    grade2 = float(input('give a grade for test 2:',))\n",
    "    grade3 = float(input('give a grade for lab 1:',))\n",
    "    grade4 = float(input('give a grade for lab 2:',))\n",
    "    grade5 = float(input('give a grade5 for lab 3:',))\n",
    "\n",
    "    avg = (grade1 + grade2 + grade3 + grade4 + grade5)/5\n",
    "\n",
    "    print(f'The final grade is {avg:.2f}')   #formated string  - two decimal places\n",
    "\n",
    "\n",
    "calculate_final_grade()"
   ]
  },
  {
   "cell_type": "code",
   "execution_count": 21,
   "metadata": {},
   "outputs": [],
   "source": [
    "#now we continue the Ex. 1. with the weights:\n",
    "test1 = float(input('give a grade for test 1:',))\n",
    "test2 = float(input('give a grade for test 2:',))\n",
    "lab1 = float(input('give a grade for lab 1:',))\n",
    "lab2 = float(input('give a grade for lab 2:',))\n",
    "lab3 = float(input('give a grade5 for lab 3:',))\n",
    "\n",
    "best_lab = max(lab1, lab2, lab3)\n",
    "third_lab = min(lab1,lab2, lab3)\n",
    "second_lab = lab1 + lab2 + lab3 - best_lab - third_lab\n"
   ]
  },
  {
   "cell_type": "code",
   "execution_count": 22,
   "metadata": {},
   "outputs": [
    {
     "name": "stdout",
     "output_type": "stream",
     "text": [
      "[8.0, 5.0, 7.0]\n",
      "[5.0, 7.0, 8.0]\n",
      "The final Grade is 14.65\n"
     ]
    }
   ],
   "source": [
    "lab_list = [lab1,lab2, lab3]\n",
    "print(lab_list)\n",
    "lab_list.sort()\n",
    "\n",
    "print(lab_list)\n",
    "\n",
    "avg = test1 * 0.4 + test2 * 0.2 + lab_list[0] * 0.05 + lab_list[1] * lab_list[2] * 0.2\n",
    "\n",
    "print(f'The final Grade is {avg:.2f}')"
   ]
  },
  {
   "cell_type": "markdown",
   "metadata": {},
   "source": [
    "## Lists:"
   ]
  },
  {
   "cell_type": "code",
   "execution_count": 16,
   "metadata": {},
   "outputs": [
    {
     "name": "stdout",
     "output_type": "stream",
     "text": [
      "[0, 1, 2, 3, 4, 1, 1, 2, 0]\n",
      "None\n",
      "[0, 0, 1, 'a', 1, 1, 2, 2, 3, 4]\n"
     ]
    },
    {
     "ename": "TypeError",
     "evalue": "list.count() takes exactly one argument (0 given)",
     "output_type": "error",
     "traceback": [
      "\u001b[1;31m---------------------------------------------------------------------------\u001b[0m",
      "\u001b[1;31mTypeError\u001b[0m                                 Traceback (most recent call last)",
      "Cell \u001b[1;32mIn[16], line 7\u001b[0m\n\u001b[0;32m      4\u001b[0m my_list\u001b[38;5;241m.\u001b[39minsert(\u001b[38;5;241m3\u001b[39m, \u001b[38;5;124m'\u001b[39m\u001b[38;5;124ma\u001b[39m\u001b[38;5;124m'\u001b[39m)\n\u001b[0;32m      5\u001b[0m \u001b[38;5;28mprint\u001b[39m(my_list)\n\u001b[1;32m----> 7\u001b[0m \u001b[38;5;28mprint\u001b[39m(\u001b[43mmy_list\u001b[49m\u001b[38;5;241;43m.\u001b[39;49m\u001b[43mcount\u001b[49m\u001b[43m(\u001b[49m\u001b[43m)\u001b[49m)\n",
      "\u001b[1;31mTypeError\u001b[0m: list.count() takes exactly one argument (0 given)"
     ]
    }
   ],
   "source": [
    "my_list = [0,1,2,3,4,1,1,2,0]\n",
    "print(my_list)\n",
    "print(my_list.sort())\n",
    "my_list.insert(3, 'a')\n",
    "print(my_list)\n",
    "\n",
    "print(my_list.count())"
   ]
  },
  {
   "cell_type": "markdown",
   "metadata": {},
   "source": [
    "## Sets:\n",
    "useful for mathematical set intersections, union, etc."
   ]
  },
  {
   "cell_type": "code",
   "execution_count": 23,
   "metadata": {},
   "outputs": [
    {
     "name": "stdout",
     "output_type": "stream",
     "text": [
      "{0, 1, 2, 3, 4}\n"
     ]
    }
   ],
   "source": [
    "s = {0,0,1,1,3,4,2,4,1}\n",
    "print(s)"
   ]
  },
  {
   "cell_type": "markdown",
   "metadata": {},
   "source": [
    "### Exercises 2 and 3 at home"
   ]
  },
  {
   "cell_type": "code",
   "execution_count": 1,
   "metadata": {},
   "outputs": [
    {
     "name": "stdout",
     "output_type": "stream",
     "text": [
      "Starting the race over 200 km...\n",
      "\n",
      "Car A: Speed = 100 km/h, Fuel Consumption = 5.50 L/100 km, Time Taken = 2.00 hours, Total Fuel Used = 11.00 L, Efficiency Score = 45.45\n",
      "Car B: Speed = 101 km/h, Fuel Consumption = 5.46 L/100 km, Time Taken = 1.98 hours, Total Fuel Used = 10.92 L, Efficiency Score = 46.25\n",
      "Car C: Speed = 98 km/h, Fuel Consumption = 5.39 L/100 km, Time Taken = 2.04 hours, Total Fuel Used = 10.79 L, Efficiency Score = 45.42\n",
      "\n",
      "Results:\n",
      "Fastest Car: Car B with 1.98 hours\n",
      "Most Efficient Car: Car B with an Efficiency Score of 46.25\n"
     ]
    }
   ],
   "source": [
    "import random\n",
    "\n",
    "class Car:\n",
    "    def __init__(self, name, base_fuel_consumption, base_speed):\n",
    "        self.name = name\n",
    "        self.base_fuel_consumption = base_fuel_consumption\n",
    "        self.base_speed = base_speed\n",
    "        self.speed = 0\n",
    "        self.fuel_consumption = 0\n",
    "        self.total_fuel_used = 0\n",
    "        self.efficiency_score = 0\n",
    "\n",
    "    def set_random_speed_and_consumption(self):\n",
    "        while True:  # We set the limit to 6L/100Km\n",
    "            self.speed = random.randint(self.base_speed - 10, self.base_speed + 20)\n",
    "            self.fuel_consumption = self.base_fuel_consumption * (1 + (self.speed - self.base_speed) / 100)\n",
    "            if self.fuel_consumption <= 6:\n",
    "                break\n",
    "\n",
    "    def calculate_time(self, distance):\n",
    "        if self.speed > 0:\n",
    "            return distance / self.speed\n",
    "        return float('inf')  # To handle the case where speed is zero\n",
    "\n",
    "    def calculate_total_fuel_used(self, distance):\n",
    "        self.total_fuel_used = (self.fuel_consumption / 100) * distance\n",
    "        return self.total_fuel_used\n",
    "\n",
    "    def calculate_efficiency_score(self, distance):\n",
    "        # Efficiency score is inversely proportional to fuel consumption and time\n",
    "        time = self.calculate_time(distance)\n",
    "        if time > 0:\n",
    "            self.efficiency_score = 1000 / (time * self.total_fuel_used)\n",
    "        else:\n",
    "            self.efficiency_score = 0\n",
    "        return self.efficiency_score\n",
    "\n",
    "\n",
    "class CarCompetition:\n",
    "    def __init__(self, distance):\n",
    "        self.distance = distance\n",
    "        self.cars = []\n",
    "\n",
    "    def add_car(self, car):\n",
    "        self.cars.append(car)\n",
    "\n",
    "    def start_race(self):\n",
    "        if len(self.cars) < 2:\n",
    "            print(\"Not enough cars for a competition. Add more cars.\")\n",
    "            return\n",
    "\n",
    "        print(f\"Starting the race over {self.distance} km...\\n\")\n",
    "        results = []\n",
    "\n",
    "        for car in self.cars:\n",
    "            car.set_random_speed_and_consumption()\n",
    "            time_taken = car.calculate_time(self.distance)\n",
    "            total_fuel = car.calculate_total_fuel_used(self.distance)\n",
    "            efficiency = car.calculate_efficiency_score(self.distance)\n",
    "            results.append({\n",
    "                \"car\": car.name,\n",
    "                \"time_taken\": time_taken,\n",
    "                \"fuel_consumption\": car.fuel_consumption,\n",
    "                \"total_fuel_used\": total_fuel,\n",
    "                \"efficiency_score\": efficiency\n",
    "            })\n",
    "            print(f\"{car.name}: Speed = {car.speed} km/h, Fuel Consumption = {car.fuel_consumption:.2f} L/100 km, \"\n",
    "                  f\"Time Taken = {time_taken:.2f} hours, Total Fuel Used = {total_fuel:.2f} L, Efficiency Score = {efficiency:.2f}\")\n",
    "\n",
    "        winner_by_time = self.get_winner_by_time(results)\n",
    "        winner_by_efficiency = self.get_winner_by_efficiency(results)\n",
    "\n",
    "        print(\"\\nResults:\")\n",
    "        print(f\"Fastest Car: {winner_by_time['car']} with {winner_by_time['time_taken']:.2f} hours\")\n",
    "        print(f\"Most Efficient Car: {winner_by_efficiency['car']} with an Efficiency Score of {winner_by_efficiency['efficiency_score']:.2f}\")\n",
    "\n",
    "    def get_winner_by_time(self, results):\n",
    "        return min(results, key=lambda x: x[\"time_taken\"])\n",
    "\n",
    "    def get_winner_by_efficiency(self, results):\n",
    "        return max(results, key=lambda x: x[\"efficiency_score\"])\n",
    "\n",
    "\n",
    "# Example Usage\n",
    "car1 = Car(\"Car A\", base_fuel_consumption=5.5, base_speed=100)\n",
    "car2 = Car(\"Car B\", base_fuel_consumption=6.0, base_speed=110)\n",
    "car3 = Car(\"Car C\", base_fuel_consumption=5.8, base_speed=105)\n",
    "\n",
    "competition = CarCompetition(distance=200)\n",
    "competition.add_car(car1)\n",
    "competition.add_car(car2)\n",
    "competition.add_car(car3)\n",
    "\n",
    "competition.start_race()"
   ]
  }
 ],
 "metadata": {
  "kernelspec": {
   "display_name": "Python 3",
   "language": "python",
   "name": "python3"
  },
  "language_info": {
   "codemirror_mode": {
    "name": "ipython",
    "version": 3
   },
   "file_extension": ".py",
   "mimetype": "text/x-python",
   "name": "python",
   "nbconvert_exporter": "python",
   "pygments_lexer": "ipython3",
   "version": "3.12.7"
  }
 },
 "nbformat": 4,
 "nbformat_minor": 2
}
