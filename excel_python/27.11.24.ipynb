{
 "cells": [
  {
   "cell_type": "code",
   "execution_count": 2,
   "metadata": {},
   "outputs": [
    {
     "name": "stdout",
     "output_type": "stream",
     "text": [
      "The number 5 is not even\n",
      "The number 7 is not even\n",
      "The number 9 is not even\n",
      "Finally right! 4 is even\n"
     ]
    }
   ],
   "source": [
    "n = int(input('Give an even number'))\n",
    "\n",
    "while n%2 != 0:\n",
    "    print(f'The number {n} is not even', flush=True)  #forces the python to print the value every time (not cache it in the memory and sometimes print it later..sometimes happens)\n",
    "    n =int(input('Give me another, now try an even'))\n",
    "print(f'Finally right! {n} is even')"
   ]
  },
  {
   "cell_type": "code",
   "execution_count": 4,
   "metadata": {},
   "outputs": [
    {
     "name": "stdout",
     "output_type": "stream",
     "text": [
      "The sum of 125441141141414 digits is 38\n"
     ]
    }
   ],
   "source": [
    "n = int(input('Give an integer value'))\n",
    "s = 0 \n",
    "orig = n\n",
    "while n > 0:\n",
    "    s = s + n%10\n",
    "    n = n//10\n",
    "print(f'The sum of {orig} digits is {s}')"
   ]
  },
  {
   "cell_type": "code",
   "execution_count": 9,
   "metadata": {},
   "outputs": [
    {
     "name": "stdout",
     "output_type": "stream",
     "text": [
      "[5, 9, 8, 5, 6, 4, 1]\n"
     ]
    }
   ],
   "source": [
    "#one of the exercises from the pdf exercises:\n",
    "my_list = []\n",
    "while True:\n",
    "    n = input('Give a number, or \"q\" to end')\n",
    "    if n == 'q':\n",
    "        break\n",
    "    my_list.append(int(n))\n",
    "\n",
    "print(my_list)"
   ]
  },
  {
   "cell_type": "code",
   "execution_count": 10,
   "metadata": {},
   "outputs": [
    {
     "name": "stdout",
     "output_type": "stream",
     "text": [
      "THe nmber 5 appears in the list 2 times\n"
     ]
    }
   ],
   "source": [
    "n = int(input('What is the number to test?'))\n",
    "c = my_list.count(n)\n",
    "if c == 0:\n",
    "    print(f'The number {n} does not appear in the list')\n",
    "elif c == 1:\n",
    "    print(f'The number {n} appears only once in the list')\n",
    "else: \n",
    "    print(f'THe nmber {n} appears in the list {c} times')"
   ]
  },
  {
   "cell_type": "markdown",
   "metadata": {},
   "source": [
    "## Fctions:\n"
   ]
  },
  {
   "cell_type": "code",
   "execution_count": 11,
   "metadata": {},
   "outputs": [],
   "source": [
    "def factorial(n):\n",
    "    p = 1\n",
    "    for i in range(1, n+1):\n",
    "        p = p*i\n",
    "    return p\n",
    "\n"
   ]
  },
  {
   "cell_type": "code",
   "execution_count": 12,
   "metadata": {},
   "outputs": [
    {
     "name": "stdout",
     "output_type": "stream",
     "text": [
      "120 720 5040\n"
     ]
    }
   ],
   "source": [
    "print(factorial(5), factorial(6), factorial(7))"
   ]
  },
  {
   "cell_type": "code",
   "execution_count": 15,
   "metadata": {},
   "outputs": [],
   "source": [
    "#another version\n",
    "def factorial2(n):\n",
    "    p = 1\n",
    "    for i in range(n, 1, -1):     #step -1\n",
    "        p = p*i\n",
    "    return p\n"
   ]
  },
  {
   "cell_type": "code",
   "execution_count": 14,
   "metadata": {},
   "outputs": [
    {
     "name": "stdout",
     "output_type": "stream",
     "text": [
      "120 720 5040\n"
     ]
    }
   ],
   "source": [
    "print(factorial2(5), factorial2(6), factorial2(7))"
   ]
  },
  {
   "cell_type": "code",
   "execution_count": null,
   "metadata": {},
   "outputs": [],
   "source": [
    "#another version (recursive function):\n",
    "def factorial3(n):\n",
    "    if n == 0:\n",
    "        return 1\n",
    "    return n * factorial3(n-1)"
   ]
  },
  {
   "cell_type": "code",
   "execution_count": 17,
   "metadata": {},
   "outputs": [
    {
     "data": {
      "text/plain": [
       "720"
      ]
     },
     "execution_count": 17,
     "metadata": {},
     "output_type": "execute_result"
    }
   ],
   "source": [
    "factorial3(6)"
   ]
  },
  {
   "cell_type": "code",
   "execution_count": 18,
   "metadata": {},
   "outputs": [],
   "source": [
    "def sum_of_digits(n):\n",
    "    if n == 0:\n",
    "        return 0\n",
    "    return n%10 + sum_of_digits(n/10)"
   ]
  },
  {
   "cell_type": "code",
   "execution_count": 20,
   "metadata": {},
   "outputs": [
    {
     "name": "stdout",
     "output_type": "stream",
     "text": [
      "The sum of digits of 12345 is 16.66666666666667\n"
     ]
    }
   ],
   "source": [
    "n = 12345\n",
    "print(f'The sum of digits of {n} is {sum_of_digits(n)}')"
   ]
  },
  {
   "cell_type": "code",
   "execution_count": 26,
   "metadata": {},
   "outputs": [],
   "source": [
    "def list_positions(v, a_list):\n",
    "    res_list = []\n",
    "    k = len(a_list)\n",
    "    for i in range(k):\n",
    "        if v == a_list[i]:\n",
    "            res_list.append(i)\n",
    "        if len(res_list) == 0:\n",
    "            return 'NA'\n",
    "        else:\n",
    "            return res_list\n"
   ]
  },
  {
   "cell_type": "code",
   "execution_count": 29,
   "metadata": {},
   "outputs": [
    {
     "name": "stdout",
     "output_type": "stream",
     "text": [
      "[0]\n"
     ]
    }
   ],
   "source": [
    "l2 = [1,2,1,3,1,5,4,5,6,1,2,3,1,4,1]\n",
    "print(list_positions(1, l2))"
   ]
  },
  {
   "cell_type": "code",
   "execution_count": 30,
   "metadata": {},
   "outputs": [
    {
     "name": "stdout",
     "output_type": "stream",
     "text": [
      "49\n"
     ]
    }
   ],
   "source": [
    "a_list = [1,7,4,5,7,8,9,8]\n",
    "\n",
    "s = 0\n",
    "for i in range(len(a_list)):\n",
    "    s = s+a_list[i]\n",
    "\n",
    "print(s)"
   ]
  },
  {
   "cell_type": "code",
   "execution_count": 31,
   "metadata": {},
   "outputs": [
    {
     "name": "stdout",
     "output_type": "stream",
     "text": [
      "{1, 4, 5, 7, 8, 9}\n",
      "34\n"
     ]
    }
   ],
   "source": [
    "a_set = {1,7,4,5,7,8,9,8}\n",
    "s = 0\n",
    "print(a_set)\n",
    "\n",
    "for i in a_set:\n",
    "    s = s + i\n",
    "\n",
    "print(s)\n",
    "\n"
   ]
  }
 ],
 "metadata": {
  "kernelspec": {
   "display_name": "Python 3",
   "language": "python",
   "name": "python3"
  },
  "language_info": {
   "codemirror_mode": {
    "name": "ipython",
    "version": 3
   },
   "file_extension": ".py",
   "mimetype": "text/x-python",
   "name": "python",
   "nbconvert_exporter": "python",
   "pygments_lexer": "ipython3",
   "version": "3.12.7"
  }
 },
 "nbformat": 4,
 "nbformat_minor": 2
}
