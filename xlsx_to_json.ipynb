{
 "cells": [
  {
   "cell_type": "code",
   "execution_count": 1,
   "metadata": {},
   "outputs": [
    {
     "name": "stdout",
     "output_type": "stream",
     "text": [
      "Mapping data saved to nuts_mapping.json\n"
     ]
    }
   ],
   "source": [
    "import pandas as pd\n",
    "import json\n",
    "\n",
    "# Load the Excel file with the mapping data\n",
    "file_path = 'NUTS_mapping.xlsx'  # Update this path to your file location\n",
    "df = pd.read_excel(file_path)\n",
    "\n",
    "# Convert the DataFrame to a dictionary\n",
    "geo_mapping_dict = dict(zip(df['region_code'], df['region_name']))\n",
    "\n",
    "# Save the dictionary as a JSON file\n",
    "output_path = 'nuts_mapping.json'\n",
    "with open(output_path, 'w', encoding='utf-8') as f:\n",
    "    json.dump(geo_mapping_dict, f, ensure_ascii=False, indent=4)\n",
    "\n",
    "print(f\"Mapping data saved to {output_path}\")"
   ]
  }
 ],
 "metadata": {
  "kernelspec": {
   "display_name": "Python 3",
   "language": "python",
   "name": "python3"
  },
  "language_info": {
   "codemirror_mode": {
    "name": "ipython",
    "version": 3
   },
   "file_extension": ".py",
   "mimetype": "text/x-python",
   "name": "python",
   "nbconvert_exporter": "python",
   "pygments_lexer": "ipython3",
   "version": "3.12.7"
  }
 },
 "nbformat": 4,
 "nbformat_minor": 2
}
