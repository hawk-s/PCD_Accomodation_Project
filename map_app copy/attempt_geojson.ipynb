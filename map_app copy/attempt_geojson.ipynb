{
 "cells": [
  {
   "cell_type": "code",
   "execution_count": 12,
   "metadata": {},
   "outputs": [
    {
     "name": "stdout",
     "output_type": "stream",
     "text": [
      "GeoJSON data saved as nuts_2021.geojson\n"
     ]
    }
   ],
   "source": [
    "import requests\n",
    "\n",
    "# URL for NUTS 2021 GeoJSON (update if needed)\n",
    "url = \"https://gisco-services.ec.europa.eu/distribution/v2/nuts/geojson/NUTS_RG_01M_2021_3857.geojson\"\n",
    "\n",
    "# Save the file locally\n",
    "output_file = \"nuts_2021.geojson\"\n",
    "\n",
    "try:\n",
    "    response = requests.get(url)\n",
    "    response.raise_for_status()  # Check for request errors\n",
    "    with open(output_file, 'wb') as f:\n",
    "        f.write(response.content)\n",
    "    print(f\"GeoJSON data saved as {output_file}\")\n",
    "except requests.exceptions.RequestException as e:\n",
    "    print(f\"Error downloading GeoJSON: {e}\")\n"
   ]
  }
 ],
 "metadata": {
  "kernelspec": {
   "display_name": "Python 3",
   "language": "python",
   "name": "python3"
  },
  "language_info": {
   "codemirror_mode": {
    "name": "ipython",
    "version": 3
   },
   "file_extension": ".py",
   "mimetype": "text/x-python",
   "name": "python",
   "nbconvert_exporter": "python",
   "pygments_lexer": "ipython3",
   "version": "3.12.7"
  }
 },
 "nbformat": 4,
 "nbformat_minor": 2
}
